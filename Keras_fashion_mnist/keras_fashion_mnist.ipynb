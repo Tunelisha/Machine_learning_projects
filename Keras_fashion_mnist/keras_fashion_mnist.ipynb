{
  "cells": [
    {
      "cell_type": "markdown",
      "metadata": {
        "id": "view-in-github",
        "colab_type": "text"
      },
      "source": [
        "<a href=\"https://colab.research.google.com/github/elishaayinoluwa/Machine_learning_projects/blob/main/Keras_fashion_mnist/keras_fashion_mnist.ipynb\" target=\"_parent\"><img src=\"https://colab.research.google.com/assets/colab-badge.svg\" alt=\"Open In Colab\"/></a>"
      ]
    },
    {
      "cell_type": "markdown",
      "source": [
        "# Importing Libraries and getting the Dataset "
      ],
      "metadata": {
        "id": "RFk7uzodqCt_"
      }
    },
    {
      "cell_type": "code",
      "execution_count": 1,
      "metadata": {
        "id": "R04sim3wtT4v"
      },
      "outputs": [],
      "source": [
        "import tensorflow as tf\n",
        "from tensorflow import keras\n",
        "import pydot\n",
        "import numpy as np\n",
        "import pandas as pd\n",
        "import matplotlib.pyplot as plt\n",
        "%matplotlib inline"
      ]
    },
    {
      "cell_type": "code",
      "execution_count": 2,
      "metadata": {
        "id": "zOQYYlJ28KFC"
      },
      "outputs": [],
      "source": [
        "from keras.datasets import fashion_mnist"
      ]
    },
    {
      "cell_type": "code",
      "execution_count": 3,
      "metadata": {
        "colab": {
          "base_uri": "https://localhost:8080/"
        },
        "id": "ams_BF5N9OGw",
        "outputId": "ad6fbb5e-6c61-48ed-eb2d-e1f40dbaddce"
      },
      "outputs": [
        {
          "output_type": "stream",
          "name": "stdout",
          "text": [
            "Downloading data from https://storage.googleapis.com/tensorflow/tf-keras-datasets/train-labels-idx1-ubyte.gz\n",
            "32768/29515 [=================================] - 0s 0us/step\n",
            "40960/29515 [=========================================] - 0s 0us/step\n",
            "Downloading data from https://storage.googleapis.com/tensorflow/tf-keras-datasets/train-images-idx3-ubyte.gz\n",
            "26427392/26421880 [==============================] - 0s 0us/step\n",
            "26435584/26421880 [==============================] - 0s 0us/step\n",
            "Downloading data from https://storage.googleapis.com/tensorflow/tf-keras-datasets/t10k-labels-idx1-ubyte.gz\n",
            "16384/5148 [===============================================================================================] - 0s 0us/step\n",
            "Downloading data from https://storage.googleapis.com/tensorflow/tf-keras-datasets/t10k-images-idx3-ubyte.gz\n",
            "4423680/4422102 [==============================] - 0s 0us/step\n",
            "4431872/4422102 [==============================] - 0s 0us/step\n"
          ]
        }
      ],
      "source": [
        "(X_train_full, y_train_full), (X_test, y_test) = fashion_mnist.load_data()"
      ]
    },
    {
      "cell_type": "code",
      "execution_count": 4,
      "metadata": {
        "colab": {
          "base_uri": "https://localhost:8080/",
          "height": 282
        },
        "id": "uTpCJD0g9fiD",
        "outputId": "5e99f576-5a6c-4844-cc49-02afca755dfb"
      },
      "outputs": [
        {
          "output_type": "execute_result",
          "data": {
            "text/plain": [
              "<matplotlib.image.AxesImage at 0x7fc4c28f56d0>"
            ]
          },
          "metadata": {},
          "execution_count": 4
        },
        {
          "output_type": "display_data",
          "data": {
            "text/plain": [
              "<Figure size 432x288 with 1 Axes>"
            ],
            "image/png": "[encoded data removed]"
          },
          "metadata": {
            "needs_background": "light"
          }
        }
      ],
      "source": [
        "# Data Visualization\n",
        "plt.imshow(X_train_full[10])"
      ]
    },
    {
      "cell_type": "code",
      "execution_count": 5,
      "metadata": {
        "colab": {
          "base_uri": "https://localhost:8080/"
        },
        "id": "kcDQzZ_1_Ugm",
        "outputId": "25601899-bf65-4c0c-ca32-d0a4d5f852ac"
      },
      "outputs": [
        {
          "output_type": "execute_result",
          "data": {
            "text/plain": [
              "0"
            ]
          },
          "metadata": {},
          "execution_count": 5
        }
      ],
      "source": [
        "y_train_full[10]"
      ]
    },
    {
      "cell_type": "code",
      "execution_count": 6,
      "metadata": {
        "id": "VFS7sSkRHrFo"
      },
      "outputs": [],
      "source": [
        "class_names = [\"T-shirt/top\", \"Trouser\", \"Pullover\", \"Dress\", \"Coat\", \"Sandal\", \"Shirt\", \"Sneaker\", \"Bag\", \"Ankle boot\"]"
      ]
    },
    {
      "cell_type": "code",
      "execution_count": 7,
      "metadata": {
        "colab": {
          "base_uri": "https://localhost:8080/",
          "height": 35
        },
        "id": "9qL9qt6BIfIm",
        "outputId": "730c4be4-1daf-427a-daa5-98baede0b218"
      },
      "outputs": [
        {
          "output_type": "execute_result",
          "data": {
            "text/plain": [
              "'T-shirt/top'"
            ],
            "application/vnd.google.colaboratory.intrinsic+json": {
              "type": "string"
            }
          },
          "metadata": {},
          "execution_count": 7
        }
      ],
      "source": [
        "class_names[y_train_full[10]]"
      ]
    },
    {
      "cell_type": "markdown",
      "metadata": {
        "id": "8SWmtsPrLZIf"
      },
      "source": [
        "# Data Normalization"
      ]
    },
    {
      "cell_type": "code",
      "execution_count": 8,
      "metadata": {
        "id": "5tVZACMQLgnu"
      },
      "outputs": [],
      "source": [
        "X_train_n = X_train_full / 255.0\n",
        "X_test_n = X_test / 255.0"
      ]
    },
    {
      "cell_type": "markdown",
      "source": [
        "# Splitting Data Into Training, Validation and Testing Data"
      ],
      "metadata": {
        "id": "7iuOTm8DrWFO"
      }
    },
    {
      "cell_type": "code",
      "execution_count": 9,
      "metadata": {
        "id": "sx3n_-A5Ob9e"
      },
      "outputs": [],
      "source": [
        "X_valid, X_train = X_train_n[:5000], X_train_n[5000:]\n",
        "y_valid, y_train = y_train_full[:5000], y_train_full[5000:]\n",
        "X_test = X_test_n"
      ]
    },
    {
      "cell_type": "code",
      "execution_count": 10,
      "metadata": {
        "id": "Jrs2o7c1YXwC"
      },
      "outputs": [],
      "source": [
        "np.random.seed(42)\n",
        "tf.random.set_seed(42)"
      ]
    },
    {
      "cell_type": "markdown",
      "source": [
        "# Building the Neural Network. "
      ],
      "metadata": {
        "id": "ScMUl_vyrmBV"
      }
    },
    {
      "cell_type": "code",
      "execution_count": 11,
      "metadata": {
        "id": "xcCjbpaWf_vv"
      },
      "outputs": [],
      "source": [
        "model = keras.models.Sequential()\n",
        "model.add(keras.layers.Flatten(input_shape=[28,28]))\n",
        "model.add(keras.layers.Dense(300, activation=\"relu\"))\n",
        "model.add(keras.layers.Dense(100, activation=\"relu\"))\n",
        "model.add(keras.layers.Dense(10, activation=\"softmax\"))"
      ]
    },
    {
      "cell_type": "code",
      "execution_count": 12,
      "metadata": {
        "colab": {
          "base_uri": "https://localhost:8080/"
        },
        "id": "OF9nnM_UjqvL",
        "outputId": "76298e96-48cf-430c-fa3d-b971384ac85e"
      },
      "outputs": [
        {
          "output_type": "stream",
          "name": "stdout",
          "text": [
            "Model: \"sequential\"\n",
            "_________________________________________________________________\n",
            " Layer (type)                Output Shape              Param #   \n",
            "=================================================================\n",
            " flatten (Flatten)           (None, 784)               0         \n",
            "                                                                 \n",
            " dense (Dense)               (None, 300)               235500    \n",
            "                                                                 \n",
            " dense_1 (Dense)             (None, 100)               30100     \n",
            "                                                                 \n",
            " dense_2 (Dense)             (None, 10)                1010      \n",
            "                                                                 \n",
            "=================================================================\n",
            "Total params: 266,610\n",
            "Trainable params: 266,610\n",
            "Non-trainable params: 0\n",
            "_________________________________________________________________\n"
          ]
        }
      ],
      "source": [
        "model.summary()"
      ]
    },
    {
      "cell_type": "code",
      "execution_count": 13,
      "metadata": {
        "colab": {
          "base_uri": "https://localhost:8080/",
          "height": 466
        },
        "id": "pfCxGhqtuYyU",
        "outputId": "2f629d8d-13ef-4c8d-e74a-162cda07c296"
      },
      "outputs": [
        {
          "output_type": "execute_result",
          "data": {
            "text/plain": [
              "<IPython.core.display.Image object>"
            ],
            "image/png": "[encoded data removed]"
          },
          "metadata": {},
          "execution_count": 13
        }
      ],
      "source": [
        "keras.utils.plot_model(model)"
      ]
    },
    {
      "cell_type": "code",
      "execution_count": 14,
      "metadata": {
        "id": "J6ngB-1Jw-um"
      },
      "outputs": [],
      "source": [
        "weights, biases = model.layers[1].get_weights()"
      ]
    },
    {
      "cell_type": "code",
      "execution_count": 15,
      "metadata": {
        "colab": {
          "base_uri": "https://localhost:8080/"
        },
        "id": "LkTYHzD-xcMx",
        "outputId": "1cc6796b-270e-4a30-ab90-b18cad1e5350"
      },
      "outputs": [
        {
          "output_type": "execute_result",
          "data": {
            "text/plain": [
              "array([[ 0.02448617, -0.00877795, -0.02189048, ..., -0.02766046,\n",
              "         0.03859074, -0.06889391],\n",
              "       [ 0.00476504, -0.03105379, -0.0586676 , ...,  0.00602964,\n",
              "        -0.02763776, -0.04165364],\n",
              "       [-0.06189284, -0.06901957,  0.07102345, ..., -0.04238207,\n",
              "         0.07121518, -0.07331658],\n",
              "       ...,\n",
              "       [-0.03048757,  0.02155137, -0.05400612, ..., -0.00113463,\n",
              "         0.00228987,  0.05581069],\n",
              "       [ 0.07061854, -0.06960931,  0.07038955, ..., -0.00384101,\n",
              "         0.00034875,  0.02878492],\n",
              "       [-0.06022581,  0.01577859, -0.02585464, ..., -0.00527829,\n",
              "         0.00272203, -0.06793761]], dtype=float32)"
            ]
          },
          "metadata": {},
          "execution_count": 15
        }
      ],
      "source": [
        "weights"
      ]
    },
    {
      "cell_type": "code",
      "execution_count": 16,
      "metadata": {
        "colab": {
          "base_uri": "https://localhost:8080/"
        },
        "id": "_LQTmIdkxn73",
        "outputId": "c6267b1a-1b79-4772-b7f6-c39be42dfe20"
      },
      "outputs": [
        {
          "output_type": "execute_result",
          "data": {
            "text/plain": [
              "(784, 300)"
            ]
          },
          "metadata": {},
          "execution_count": 16
        }
      ],
      "source": [
        "weights.shape"
      ]
    },
    {
      "cell_type": "code",
      "execution_count": 17,
      "metadata": {
        "colab": {
          "base_uri": "https://localhost:8080/"
        },
        "id": "TmWIEhK0x4zu",
        "outputId": "fc08d057-90a0-4c89-f530-f5aacc03a725"
      },
      "outputs": [
        {
          "output_type": "execute_result",
          "data": {
            "text/plain": [
              "(300,)"
            ]
          },
          "metadata": {},
          "execution_count": 17
        }
      ],
      "source": [
        "biases.shape"
      ]
    },
    {
      "cell_type": "markdown",
      "source": [
        "# Compiling and Training and Neural Network"
      ],
      "metadata": {
        "id": "7JDIzKQJsTL6"
      }
    },
    {
      "cell_type": "code",
      "execution_count": 18,
      "metadata": {
        "id": "Fys0K9dJzkUc"
      },
      "outputs": [],
      "source": [
        "model.compile(loss = \"sparse_categorical_crossentropy\",\n",
        "              optimizer = \"sgd\",\n",
        "              metrics=[\"accuracy\"])"
      ]
    },
    {
      "cell_type": "code",
      "execution_count": 19,
      "metadata": {
        "colab": {
          "base_uri": "https://localhost:8080/"
        },
        "id": "5NeS9Kq2bofy",
        "outputId": "5b468673-e387-47f5-d780-cbd655deda74"
      },
      "outputs": [
        {
          "output_type": "stream",
          "name": "stdout",
          "text": [
            "Epoch 1/60\n",
            "1719/1719 [==============================] - 9s 5ms/step - loss: 0.7237 - accuracy: 0.7643 - val_loss: 0.5213 - val_accuracy: 0.8226\n",
            "Epoch 2/60\n",
            "1719/1719 [==============================] - 11s 6ms/step - loss: 0.4842 - accuracy: 0.8318 - val_loss: 0.4353 - val_accuracy: 0.8526\n",
            "Epoch 3/60\n",
            "1719/1719 [==============================] - 8s 5ms/step - loss: 0.4391 - accuracy: 0.8457 - val_loss: 0.5333 - val_accuracy: 0.7988\n",
            "Epoch 4/60\n",
            "1719/1719 [==============================] - 6s 4ms/step - loss: 0.4123 - accuracy: 0.8564 - val_loss: 0.3916 - val_accuracy: 0.8650\n",
            "Epoch 5/60\n",
            "1719/1719 [==============================] - 6s 3ms/step - loss: 0.3939 - accuracy: 0.8616 - val_loss: 0.3741 - val_accuracy: 0.8698\n",
            "Epoch 6/60\n",
            "1719/1719 [==============================] - 6s 3ms/step - loss: 0.3751 - accuracy: 0.8678 - val_loss: 0.3706 - val_accuracy: 0.8726\n",
            "Epoch 7/60\n",
            "1719/1719 [==============================] - 6s 4ms/step - loss: 0.3630 - accuracy: 0.8715 - val_loss: 0.3621 - val_accuracy: 0.8726\n",
            "Epoch 8/60\n",
            "1719/1719 [==============================] - 6s 3ms/step - loss: 0.3515 - accuracy: 0.8752 - val_loss: 0.3855 - val_accuracy: 0.8626\n",
            "Epoch 9/60\n",
            "1719/1719 [==============================] - 6s 3ms/step - loss: 0.3413 - accuracy: 0.8792 - val_loss: 0.3575 - val_accuracy: 0.8718\n",
            "Epoch 10/60\n",
            "1719/1719 [==============================] - 6s 3ms/step - loss: 0.3318 - accuracy: 0.8822 - val_loss: 0.3423 - val_accuracy: 0.8774\n",
            "Epoch 11/60\n",
            "1719/1719 [==============================] - 6s 4ms/step - loss: 0.3238 - accuracy: 0.8838 - val_loss: 0.3449 - val_accuracy: 0.8776\n",
            "Epoch 12/60\n",
            "1719/1719 [==============================] - 7s 4ms/step - loss: 0.3147 - accuracy: 0.8867 - val_loss: 0.3306 - val_accuracy: 0.8808\n",
            "Epoch 13/60\n",
            "1719/1719 [==============================] - 6s 3ms/step - loss: 0.3078 - accuracy: 0.8894 - val_loss: 0.3265 - val_accuracy: 0.8880\n",
            "Epoch 14/60\n",
            "1719/1719 [==============================] - 6s 3ms/step - loss: 0.3019 - accuracy: 0.8915 - val_loss: 0.3422 - val_accuracy: 0.8774\n",
            "Epoch 15/60\n",
            "1719/1719 [==============================] - 6s 3ms/step - loss: 0.2944 - accuracy: 0.8938 - val_loss: 0.3224 - val_accuracy: 0.8858\n",
            "Epoch 16/60\n",
            "1719/1719 [==============================] - 7s 4ms/step - loss: 0.2888 - accuracy: 0.8970 - val_loss: 0.3093 - val_accuracy: 0.8902\n",
            "Epoch 17/60\n",
            "1719/1719 [==============================] - 6s 4ms/step - loss: 0.2835 - accuracy: 0.8981 - val_loss: 0.3549 - val_accuracy: 0.8734\n",
            "Epoch 18/60\n",
            "1719/1719 [==============================] - 6s 3ms/step - loss: 0.2775 - accuracy: 0.9001 - val_loss: 0.3128 - val_accuracy: 0.8900\n",
            "Epoch 19/60\n",
            "1719/1719 [==============================] - 6s 3ms/step - loss: 0.2726 - accuracy: 0.9025 - val_loss: 0.3123 - val_accuracy: 0.8912\n",
            "Epoch 20/60\n",
            "1719/1719 [==============================] - 6s 3ms/step - loss: 0.2672 - accuracy: 0.9037 - val_loss: 0.3289 - val_accuracy: 0.8808\n",
            "Epoch 21/60\n",
            "1719/1719 [==============================] - 6s 3ms/step - loss: 0.2621 - accuracy: 0.9059 - val_loss: 0.3074 - val_accuracy: 0.8920\n",
            "Epoch 22/60\n",
            "1719/1719 [==============================] - 6s 3ms/step - loss: 0.2575 - accuracy: 0.9075 - val_loss: 0.2955 - val_accuracy: 0.8972\n",
            "Epoch 23/60\n",
            "1719/1719 [==============================] - 6s 4ms/step - loss: 0.2533 - accuracy: 0.9084 - val_loss: 0.2995 - val_accuracy: 0.8938\n",
            "Epoch 24/60\n",
            "1719/1719 [==============================] - 6s 4ms/step - loss: 0.2482 - accuracy: 0.9100 - val_loss: 0.3089 - val_accuracy: 0.8878\n",
            "Epoch 25/60\n",
            "1719/1719 [==============================] - 6s 4ms/step - loss: 0.2441 - accuracy: 0.9124 - val_loss: 0.2975 - val_accuracy: 0.8950\n",
            "Epoch 26/60\n",
            "1719/1719 [==============================] - 6s 3ms/step - loss: 0.2403 - accuracy: 0.9137 - val_loss: 0.3066 - val_accuracy: 0.8910\n",
            "Epoch 27/60\n",
            "1719/1719 [==============================] - 6s 3ms/step - loss: 0.2361 - accuracy: 0.9155 - val_loss: 0.3025 - val_accuracy: 0.8958\n",
            "Epoch 28/60\n",
            "1719/1719 [==============================] - 6s 3ms/step - loss: 0.2326 - accuracy: 0.9166 - val_loss: 0.2996 - val_accuracy: 0.8946\n",
            "Epoch 29/60\n",
            "1719/1719 [==============================] - 6s 3ms/step - loss: 0.2282 - accuracy: 0.9189 - val_loss: 0.3055 - val_accuracy: 0.8906\n",
            "Epoch 30/60\n",
            "1719/1719 [==============================] - 7s 4ms/step - loss: 0.2247 - accuracy: 0.9199 - val_loss: 0.3026 - val_accuracy: 0.8928\n",
            "Epoch 31/60\n",
            "1719/1719 [==============================] - 6s 3ms/step - loss: 0.2211 - accuracy: 0.9199 - val_loss: 0.2948 - val_accuracy: 0.8920\n",
            "Epoch 32/60\n",
            "1719/1719 [==============================] - 6s 3ms/step - loss: 0.2175 - accuracy: 0.9216 - val_loss: 0.3043 - val_accuracy: 0.8910\n",
            "Epoch 33/60\n",
            "1719/1719 [==============================] - 6s 3ms/step - loss: 0.2139 - accuracy: 0.9228 - val_loss: 0.2967 - val_accuracy: 0.8956\n",
            "Epoch 34/60\n",
            "1719/1719 [==============================] - 6s 3ms/step - loss: 0.2104 - accuracy: 0.9247 - val_loss: 0.3017 - val_accuracy: 0.8934\n",
            "Epoch 35/60\n",
            "1719/1719 [==============================] - 6s 4ms/step - loss: 0.2063 - accuracy: 0.9260 - val_loss: 0.2833 - val_accuracy: 0.8974\n",
            "Epoch 36/60\n",
            "1719/1719 [==============================] - 6s 3ms/step - loss: 0.2041 - accuracy: 0.9267 - val_loss: 0.3041 - val_accuracy: 0.8954\n",
            "Epoch 37/60\n",
            "1719/1719 [==============================] - 6s 4ms/step - loss: 0.2006 - accuracy: 0.9282 - val_loss: 0.2904 - val_accuracy: 0.8948\n",
            "Epoch 38/60\n",
            "1719/1719 [==============================] - 6s 4ms/step - loss: 0.1963 - accuracy: 0.9306 - val_loss: 0.2868 - val_accuracy: 0.8972\n",
            "Epoch 39/60\n",
            "1719/1719 [==============================] - 6s 4ms/step - loss: 0.1955 - accuracy: 0.9302 - val_loss: 0.2921 - val_accuracy: 0.8968\n",
            "Epoch 40/60\n",
            "1719/1719 [==============================] - 6s 3ms/step - loss: 0.1910 - accuracy: 0.9327 - val_loss: 0.2950 - val_accuracy: 0.8966\n",
            "Epoch 41/60\n",
            "1719/1719 [==============================] - 6s 3ms/step - loss: 0.1885 - accuracy: 0.9329 - val_loss: 0.2858 - val_accuracy: 0.9010\n",
            "Epoch 42/60\n",
            "1719/1719 [==============================] - 6s 3ms/step - loss: 0.1858 - accuracy: 0.9339 - val_loss: 0.2863 - val_accuracy: 0.9002\n",
            "Epoch 43/60\n",
            "1719/1719 [==============================] - 6s 4ms/step - loss: 0.1816 - accuracy: 0.9355 - val_loss: 0.3170 - val_accuracy: 0.8880\n",
            "Epoch 44/60\n",
            "1719/1719 [==============================] - 6s 3ms/step - loss: 0.1792 - accuracy: 0.9366 - val_loss: 0.3113 - val_accuracy: 0.8872\n",
            "Epoch 45/60\n",
            "1719/1719 [==============================] - 6s 4ms/step - loss: 0.1776 - accuracy: 0.9359 - val_loss: 0.2907 - val_accuracy: 0.8986\n",
            "Epoch 46/60\n",
            "1719/1719 [==============================] - 6s 4ms/step - loss: 0.1736 - accuracy: 0.9383 - val_loss: 0.3005 - val_accuracy: 0.8962\n",
            "Epoch 47/60\n",
            "1719/1719 [==============================] - 6s 4ms/step - loss: 0.1710 - accuracy: 0.9386 - val_loss: 0.2938 - val_accuracy: 0.8998\n",
            "Epoch 48/60\n",
            "1719/1719 [==============================] - 7s 4ms/step - loss: 0.1692 - accuracy: 0.9394 - val_loss: 0.3125 - val_accuracy: 0.8918\n",
            "Epoch 49/60\n",
            "1719/1719 [==============================] - 6s 4ms/step - loss: 0.1650 - accuracy: 0.9408 - val_loss: 0.2948 - val_accuracy: 0.8964\n",
            "Epoch 50/60\n",
            "1719/1719 [==============================] - 6s 4ms/step - loss: 0.1632 - accuracy: 0.9419 - val_loss: 0.2970 - val_accuracy: 0.8986\n",
            "Epoch 51/60\n",
            "1719/1719 [==============================] - 6s 4ms/step - loss: 0.1608 - accuracy: 0.9428 - val_loss: 0.2875 - val_accuracy: 0.9026\n",
            "Epoch 52/60\n",
            "1719/1719 [==============================] - 6s 4ms/step - loss: 0.1581 - accuracy: 0.9444 - val_loss: 0.3405 - val_accuracy: 0.8846\n",
            "Epoch 53/60\n",
            "1719/1719 [==============================] - 6s 4ms/step - loss: 0.1558 - accuracy: 0.9447 - val_loss: 0.3042 - val_accuracy: 0.8982\n",
            "Epoch 54/60\n",
            "1719/1719 [==============================] - 6s 4ms/step - loss: 0.1534 - accuracy: 0.9457 - val_loss: 0.3048 - val_accuracy: 0.8958\n",
            "Epoch 55/60\n",
            "1719/1719 [==============================] - 6s 4ms/step - loss: 0.1503 - accuracy: 0.9473 - val_loss: 0.3062 - val_accuracy: 0.8958\n",
            "Epoch 56/60\n",
            "1719/1719 [==============================] - 6s 4ms/step - loss: 0.1478 - accuracy: 0.9473 - val_loss: 0.3149 - val_accuracy: 0.8982\n",
            "Epoch 57/60\n",
            "1719/1719 [==============================] - 6s 3ms/step - loss: 0.1446 - accuracy: 0.9490 - val_loss: 0.3028 - val_accuracy: 0.8992\n",
            "Epoch 58/60\n",
            "1719/1719 [==============================] - 6s 4ms/step - loss: 0.1423 - accuracy: 0.9498 - val_loss: 0.3031 - val_accuracy: 0.8952\n",
            "Epoch 59/60\n",
            "1719/1719 [==============================] - 6s 4ms/step - loss: 0.1403 - accuracy: 0.9505 - val_loss: 0.3081 - val_accuracy: 0.8982\n",
            "Epoch 60/60\n",
            "1719/1719 [==============================] - 6s 4ms/step - loss: 0.1382 - accuracy: 0.9512 - val_loss: 0.3011 - val_accuracy: 0.8998\n"
          ]
        }
      ],
      "source": [
        "model_history = model.fit(X_train, y_train, epochs=60, validation_data=(X_valid, y_valid))"
      ]
    },
    {
      "cell_type": "code",
      "execution_count": 20,
      "metadata": {
        "id": "0r8uysk9ceGI",
        "colab": {
          "base_uri": "https://localhost:8080/"
        },
        "outputId": "c6094210-56ff-4488-ba50-aee6c1f5df28"
      },
      "outputs": [
        {
          "output_type": "execute_result",
          "data": {
            "text/plain": [
              "{'epochs': 60, 'steps': 1719, 'verbose': 1}"
            ]
          },
          "metadata": {},
          "execution_count": 20
        }
      ],
      "source": [
        "model_history.params"
      ]
    },
    {
      "cell_type": "code",
      "source": [
        "pd.DataFrame(model_history.history).plot(figsize=(8,5))\n",
        "plt.grid(True)\n",
        "plt.ylim((0,1))\n",
        "plt.xlim((0,30))"
      ],
      "metadata": {
        "colab": {
          "base_uri": "https://localhost:8080/",
          "height": 341
        },
        "id": "2mQh9HIFq5Y7",
        "outputId": "c9e0a5e1-f31b-4a37-d0cf-dbe6033e9cb9"
      },
      "execution_count": 21,
      "outputs": [
        {
          "output_type": "execute_result",
          "data": {
            "text/plain": [
              "(0.0, 30.0)"
            ]
          },
          "metadata": {},
          "execution_count": 21
        },
        {
          "output_type": "display_data",
          "data": {
            "text/plain": [
              "<Figure size 576x360 with 1 Axes>"
            ],
            "image/png": "[encoded data removed]"
          },
          "metadata": {
            "needs_background": "light"
          }
        }
      ]
    },
    {
      "cell_type": "markdown",
      "source": [
        "# Evaluating Performace and Predicting"
      ],
      "metadata": {
        "id": "dKMV6Xy7srcH"
      }
    },
    {
      "cell_type": "code",
      "source": [
        "model.evaluate(X_test, y_test)"
      ],
      "metadata": {
        "colab": {
          "base_uri": "https://localhost:8080/"
        },
        "id": "AIfThwhtrN36",
        "outputId": "352d8986-680f-4a68-eadc-df9a389bb457"
      },
      "execution_count": 22,
      "outputs": [
        {
          "output_type": "stream",
          "name": "stdout",
          "text": [
            "313/313 [==============================] - 1s 2ms/step - loss: 0.3419 - accuracy: 0.8900\n"
          ]
        },
        {
          "output_type": "execute_result",
          "data": {
            "text/plain": [
              "[0.3418501317501068, 0.8899999856948853]"
            ]
          },
          "metadata": {},
          "execution_count": 22
        }
      ]
    },
    {
      "cell_type": "code",
      "source": [
        "X_new = X_test[:3]"
      ],
      "metadata": {
        "id": "YRuQXP5R2PcP"
      },
      "execution_count": 23,
      "outputs": []
    },
    {
      "cell_type": "markdown",
      "source": [
        ""
      ],
      "metadata": {
        "id": "vc0jvNy1uzyl"
      }
    },
    {
      "cell_type": "code",
      "source": [
        "y_proba = model.predict(X_new)\n",
        "y_proba.round(2)"
      ],
      "metadata": {
        "colab": {
          "base_uri": "https://localhost:8080/"
        },
        "id": "1pBe79CIDe8v",
        "outputId": "98bec8fa-842b-4a77-c878-c1528dd13049"
      },
      "execution_count": 24,
      "outputs": [
        {
          "output_type": "execute_result",
          "data": {
            "text/plain": [
              "array([[0., 0., 0., 0., 0., 0., 0., 0., 0., 1.],\n",
              "       [0., 0., 1., 0., 0., 0., 0., 0., 0., 0.],\n",
              "       [0., 1., 0., 0., 0., 0., 0., 0., 0., 0.]], dtype=float32)"
            ]
          },
          "metadata": {},
          "execution_count": 24
        }
      ]
    },
    {
      "cell_type": "code",
      "source": [
        "y_pred = model.predict(X_new)\n"
      ],
      "metadata": {
        "id": "YqRDfZhpDihw"
      },
      "execution_count": 25,
      "outputs": []
    },
    {
      "cell_type": "code",
      "source": [
        "plt.imshow(X_test[1])"
      ],
      "metadata": {
        "colab": {
          "base_uri": "https://localhost:8080/",
          "height": 282
        },
        "id": "STDyyo4qEEzW",
        "outputId": "d835b5ca-e956-4766-871a-2ad20e0865d4"
      },
      "execution_count": 26,
      "outputs": [
        {
          "output_type": "execute_result",
          "data": {
            "text/plain": [
              "<matplotlib.image.AxesImage at 0x7fc4be362650>"
            ]
          },
          "metadata": {},
          "execution_count": 26
        },
        {
          "output_type": "display_data",
          "data": {
            "text/plain": [
              "<Figure size 432x288 with 1 Axes>"
            ],
            "image/png": "[encoded data removed]"
          },
          "metadata": {
            "needs_background": "light"
          }
        }
      ]
    },
    {
      "cell_type": "code",
      "source": [
        "y_predict = np.argmax(y_proba, axis=1)"
      ],
      "metadata": {
        "id": "LBS-6FlLIK8n"
      },
      "execution_count": 27,
      "outputs": []
    },
    {
      "cell_type": "code",
      "source": [
        "np.array(class_names)[y_predict]"
      ],
      "metadata": {
        "colab": {
          "base_uri": "https://localhost:8080/"
        },
        "id": "351e1OnxIo8x",
        "outputId": "96e1cc24-f185-4dfb-d4e3-982bd9840677"
      },
      "execution_count": 28,
      "outputs": [
        {
          "output_type": "execute_result",
          "data": {
            "text/plain": [
              "array(['Ankle boot', 'Pullover', 'Trouser'], dtype='<U11')"
            ]
          },
          "metadata": {},
          "execution_count": 28
        }
      ]
    },
    {
      "cell_type": "code",
      "source": [
        "plt.imshow(X_test[2])"
      ],
      "metadata": {
        "colab": {
          "base_uri": "https://localhost:8080/",
          "height": 282
        },
        "id": "LJNy7ZNaJnLD",
        "outputId": "e03d61a5-cc39-4ec9-b1e2-b50971991237"
      },
      "execution_count": 29,
      "outputs": [
        {
          "output_type": "execute_result",
          "data": {
            "text/plain": [
              "<matplotlib.image.AxesImage at 0x7fc4be3de810>"
            ]
          },
          "metadata": {},
          "execution_count": 29
        },
        {
          "output_type": "display_data",
          "data": {
            "text/plain": [
              "<Figure size 432x288 with 1 Axes>"
            ],
            "image/png": "[encoded data removed]"
          },
          "metadata": {
            "needs_background": "light"
          }
        }
      ]
    },
    {
      "cell_type": "code",
      "source": [
        ""
      ],
      "metadata": {
        "id": "UcI3NzEBKGLs"
      },
      "execution_count": 29,
      "outputs": []
    }
  ],
  "metadata": {
    "colab": {
      "name": "keras_fashion_mnist.ipynb",
      "provenance": [],
      "authorship_tag": "ABX9TyM5QsHumJBGZfInOEqZlScE",
      "include_colab_link": true
    },
    "kernelspec": {
      "display_name": "Python 3",
      "name": "python3"
    },
    "language_info": {
      "name": "python"
    }
  },
  "nbformat": 4,
  "nbformat_minor": 0
}